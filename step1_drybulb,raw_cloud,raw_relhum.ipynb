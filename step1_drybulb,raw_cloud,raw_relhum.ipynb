{
 "cells": [
  {
   "cell_type": "code",
   "execution_count": null,
   "metadata": {
    "colab": {
     "base_uri": "https://localhost:8080/"
    },
    "executionInfo": {
     "elapsed": 7208,
     "status": "ok",
     "timestamp": 1607677822943,
     "user": {
      "displayName": "H K",
      "photoUrl": "",
      "userId": "12235360574546678823"
     },
     "user_tz": 480
    },
    "id": "9MMWJBdL5VdB",
    "outputId": "6783c476-6479-4fc9-9f61-3b3b4fb59568"
   },
   "outputs": [],
   "source": [
    "import numpy as np\n",
    "import pandas as pd\n",
    "from datetime import datetime,timedelta\n",
    "import sys\n",
    "import os\n",
    "\n",
    "from metsim.methods import mtclim\n",
    "from metsim import disaggregate, metsim, physics"
   ]
  },
  {
   "cell_type": "code",
   "execution_count": null,
   "metadata": {
    "id": "GohfBLFOMZ7j"
   },
   "outputs": [],
   "source": [
    "# Load custom functions\n",
    "sys.path.append(\"./python_functions/\")\n",
    "from custom_data_process import convert_temp"
   ]
  },
  {
   "cell_type": "code",
   "execution_count": null,
   "metadata": {
    "id": "RKOpxXVG5n--"
   },
   "outputs": [],
   "source": [
    "###############################################################################\n",
    "#   Read data\n",
    "###############################################################################\n",
    "path_main = \"./inputs/\"\n",
    "dir_input = os.path.join(path_main)\n",
    "\n",
    "fname_temp_prec = \"Delta1915_2015_4columns.txt\"\n",
    "fname_wind = \"WP_Daily_1915_2015.txt\"\n",
    "\n",
    "dir_output = os.path.join(\"processing\")\n",
    "if not os.path.exists(dir_output):\n",
    "  os.makedirs(dir_output)\n",
    "\n",
    "data_temp_prec = np.loadtxt(os.path.join(dir_input, fname_temp_prec))\n",
    "data_wind = np.loadtxt(os.path.join(dir_input, fname_wind))"
   ]
  },
  {
   "cell_type": "code",
   "execution_count": null,
   "metadata": {
    "id": "gOEo8Bwa7WIH"
   },
   "outputs": [],
   "source": [
    "###############################################################################\n",
    "#   Specify environment and parameters\n",
    "###############################################################################\n",
    "date_bgn = datetime(1915, 1, 1)\n",
    "date_end = datetime(2015, 12, 31)\n",
    "\n",
    "lat = 38\n",
    "long = -121.5\n",
    "\n",
    "# time step (in minutes)\n",
    "time_step = 60\n",
    "\n",
    "# meters\n",
    "elev = 0\n",
    "\n",
    "# daily precipitation (mm)\n",
    "arr_prec_raw = data_temp_prec[:,0]\n",
    "\n",
    "# max temperature (C)\n",
    "arr_tmax_raw = data_temp_prec[:,1]\n",
    "\n",
    "# min temperature (C)\n",
    "arr_tmin_raw = data_temp_prec[:,2]\n",
    "\n",
    "# wind speed (m/sec)\n",
    "arr_wind_raw = data_wind\n",
    "\n",
    "# Daily date_range\n",
    "daterange_daily = pd.date_range(date_bgn, date_end)\n",
    "\n",
    "# Account for actual date range\n",
    "arr_prec_raw = arr_prec_raw[:len(daterange_daily)]\n",
    "arr_tmax_raw = arr_tmax_raw[:len(daterange_daily)]\n",
    "arr_tmin_raw = arr_tmin_raw[:len(daterange_daily)]\n",
    "arr_wind_raw = arr_wind_raw[:len(daterange_daily)]\n",
    "\n",
    "\n",
    "#\n",
    "# For cloud cover fraction\n",
    "#\n",
    "#   smoothed daily temperature range using 30-day moving window\n",
    "davg = 30\n",
    "\n",
    "# Seasonal_precipitation requires past 90 days of data\n",
    "dskip = 90\n",
    "\n",
    "# Adjust date_bgn and other arrays to account for averaging\n",
    "date_bgn_adj = date_bgn + timedelta(days = dskip)\n",
    "arr_prec_adj = arr_prec_raw[dskip:]\n",
    "arr_tmax_adj = arr_tmax_raw[dskip:]\n",
    "arr_tmin_adj = arr_tmin_raw[dskip:]\n",
    "arr_wind_adj = arr_wind_raw[dskip:]\n",
    "\n",
    "# Update daily date_range\n",
    "daterange_daily = pd.date_range(date_bgn_adj, date_end)"
   ]
  },
  {
   "cell_type": "code",
   "execution_count": null,
   "metadata": {
    "id": "yF2VIxTmLxhh"
   },
   "outputs": [],
   "source": [
    "# Model parameters. Default values are used following:\n",
    "#   https://metsim.readthedocs.io/en/develop/configuration.html\n",
    "#   https://metsim.readthedocs.io/en/1.1.0/configuration.html\n",
    "params = {\n",
    "    \n",
    "    # The timestep to disaggregate in minutes. \n",
    "    # If given as 1440 (number of minutes in a day), \n",
    "    #   no disaggregation will occur. This value must divide 1440 evenly.\n",
    "    \"time_step\": time_step,\n",
    "\n",
    "    # The time to start simulation given in the format yyyy/mm/dd\n",
    "    #   Hans: However, datetime seems to work as well.\n",
    "    \"start\": date_bgn_adj,\n",
    "\n",
    "    # The time to end simulation given in the format yyyy/mm/dd\n",
    "    #   Hans: However, datetime seems to work as well.    \n",
    "    \"stop\": date_end,\n",
    "    \n",
    "    # Scale factor for calculation of cloudy sky transmittance.\n",
    "    # Defaults to 0.75, range should be between 0 and 1.\n",
    "    \"rain_scalar\" : 0.75,\n",
    "\n",
    "    #  Minimum precipitation threshold to take into account when\n",
    "    #   simulating incoming shortwave radiation. Defaults to 0\n",
    "    \"sw_prec_thresh\" : 0.0,\n",
    "    \n",
    "    # Type of cloud correction to longwave radiation to apply.\n",
    "    # Can be either DEFAULT or CLOUD_DEARDORFF. Defaults to CLOUD_DEARDORFF.\n",
    "    # Capitalization does not matter.\n",
    "    'lw_cloud'    : \"CLOUD_DEARDORFF\",\n",
    "\n",
    "    # Type of longwave radiation parameterization to apply.\n",
    "    # Can be one of the following: DEFAULT, TVA, ANDERSON, BRUTSAERT, \n",
    "    #   SATTERLUND, IDSO, or PRATA. Defaults to PRATA.\n",
    "    # Capitalization does not matter.\n",
    "    \"lw_type\": \"Default\",\n",
    "    \n",
    "    # Type of precipitation disaggregation method to use.\n",
    "    # Can be one of the following: uniform, triangle, or mix.\n",
    "    # Defaults to uniform.\n",
    "    \"prec_type\": \"uniform\",\n",
    "\n",
    "    # Scale factor for calculation of daily mean temperature.\n",
    "    # Defaults to 0.45, range should be between 0 and 1\n",
    "    'tday_coef' : 0.45,\n",
    "    \n",
    "    # Used to calculate atmospheric pressure. Defaults to 0.0065 K/m.\n",
    "    \"lapse_rate\" : 0.0065,\n",
    "    \n",
    "    # Convergence criteria for the iterative calculation of dewpoint temperature\n",
    "    #   in MtClim. Defaults to 1e-6\n",
    "    \"tdew_tol\" : 1e-6,\n",
    "    \n",
    "    # Whether to use UTC timecode offsets for shifting timeseries. \n",
    "    # Without this option all times should be considered local to the gridcell\n",
    "    #   being processed. \n",
    "    # Large domain runs probably want to set this option to True\n",
    "    \"utc_offset\": False,\n",
    "\n",
    "    # Weight for calculation of time of maximum daily temperature. \n",
    "    # Must be between 0 and 1. Defaults to 0.67\n",
    "    \"tmax_daylength_fraction\": 0.67, \n",
    "\n",
    "    # Flag to specify if output timesteps should be period-ending.\n",
    "    # Default is period-beginning\n",
    "    # https://metsim.readthedocs.io/en/develop/_modules/metsim/metsim.html\n",
    "    \"period_ending\": False,\n",
    "\n",
    "    # Not well documented, but needed for disaggregate\n",
    "    # https://github.com/UW-Hydro/MetSim/blob/3550648f2f7452e69afc18a834cbb499846dc06b/metsim/datetime.py\n",
    "    \"calendar\": \"standard\",\n",
    "\n",
    "    # A string representing the simulation methods to use.\n",
    "    # The current implementation only supports mtclim\n",
    "    \"method\": \"metclim\",\n",
    "\n",
    "    # Domain\n",
    "    'elev': elev,\n",
    "    'lat': lat,\n",
    "    'lon': long\n",
    "    }"
   ]
  },
  {
   "cell_type": "code",
   "execution_count": null,
   "metadata": {
    "id": "zU-16lGD7FSZ"
   },
   "outputs": [],
   "source": [
    "################################################################################\n",
    "#   Compute cloud cover fraction\n",
    "###############################################################################\n",
    "#   daily temperature range\n",
    "dtr0_raw = arr_tmax_raw - arr_tmin_raw\n",
    "dtr0_adj = dtr0_raw[dskip:]\n",
    "\n",
    "sm_dtr0 = np.zeros(len(dtr0_adj))\n",
    "seasonal_prec0 = np.zeros(len(dtr0_adj))\n",
    "ind = 0\n",
    "for i in range(dskip, len(dtr0_raw)):\n",
    "    \n",
    "    # 30-day moving average\n",
    "    sm_dtr0[ind] = np.average(dtr0_raw[i-davg:i])\n",
    "    \n",
    "    # precipitation over 90 days\n",
    "    seasonal_prec0[ind] = np.sum(arr_prec_raw[i-dskip:i])\n",
    "    ind = ind + 1\n",
    "\n",
    "# Maximum daily transmittance of the atmosphere under cloudy conditions\n",
    "tfmax0 = mtclim.tfmax(dtr0_adj, sm_dtr0, arr_prec_adj, params)\n",
    "\n",
    "# Cloud cover fraction\n",
    "tskc0 = mtclim.tskc(tfmax0, params)"
   ]
  },
  {
   "cell_type": "code",
   "execution_count": null,
   "metadata": {
    "id": "m4O3kAFS7oaA"
   },
   "outputs": [],
   "source": [
    "###############################################################################\n",
    "#   Compute daily values in preparation for relative humidity\n",
    "###############################################################################\n",
    "\n",
    "# Obtain daylength, tt_max, and potrad for the study period.\n",
    "# tiny_rad_fract_raw, daylength_raw, potrad_raw, tt_max_raw have 366  elements.\n",
    "# Use a loop to assign a value to each day within the study period.\n",
    "[tiny_rad_fract_raw, daylength_raw, potrad_raw, tt_max_raw] \\\n",
    "                                          = physics.solar_geom(elev, lat, long)\n",
    "\n",
    "num_days = (date_end - date_bgn_adj).days + 1\n",
    "\n",
    "assert (num_days == len(daterange_daily))\n",
    "tiny_rad_fract0 = np.zeros([num_days, np.shape(tiny_rad_fract_raw)[1]])\n",
    "daylength0 = np.zeros(num_days)\n",
    "tt_max0 = np.zeros(num_days)\n",
    "potrad0 = np.zeros(num_days)\n",
    "\n",
    "for i in range(0, num_days):\n",
    "\n",
    "    dstr0 = daterange_daily[i].strftime(\"%Y-%m-%d\")\n",
    "    iday = pd.Period(dstr0).dayofyear - 1\n",
    "\n",
    "    tiny_rad_fract0[i, :] = tiny_rad_fract_raw[iday, :]\n",
    "    daylength0[i] = daylength_raw[iday]\n",
    "    tt_max0[i] = tt_max_raw[iday]\n",
    "    potrad0[i] = potrad_raw[iday]"
   ]
  },
  {
   "cell_type": "code",
   "execution_count": null,
   "metadata": {
    "id": "sN0T5uZp75Rx"
   },
   "outputs": [],
   "source": [
    "###############################################################################\n",
    "# Use the main function to obtain variables iteratively.\n",
    "###############################################################################\n",
    "df_daily = pd.DataFrame({\"t_min\": arr_tmin_adj,\n",
    "                    \"t_max\": arr_tmax_adj,\n",
    "                    \"prec\": arr_prec_adj,\n",
    "                    \"dtr\": dtr0_adj,\n",
    "                    \"smoothed_dtr\": sm_dtr0,\n",
    "                    \"tt_max\": tt_max0,\n",
    "                    \"potrad\": potrad0,\n",
    "                    \"daylength\": daylength0,\n",
    "                    \"seasonal_prec\": seasonal_prec0,\n",
    "                    \"wind\": arr_wind_adj\n",
    "                    })\n",
    "\n",
    "df_daily = mtclim.run(df_daily, params)"
   ]
  },
  {
   "cell_type": "code",
   "execution_count": null,
   "metadata": {
    "id": "RCASNdrIBwDL"
   },
   "outputs": [],
   "source": [
    "# Use date_range for index, as opposed to a numeric one.\n",
    "df_daily = df_daily.set_index(daterange_daily)"
   ]
  },
  {
   "cell_type": "code",
   "execution_count": null,
   "metadata": {
    "colab": {
     "base_uri": "https://localhost:8080/"
    },
    "executionInfo": {
     "elapsed": 44414,
     "status": "ok",
     "timestamp": 1607677860183,
     "user": {
      "displayName": "H K",
      "photoUrl": "",
      "userId": "12235360574546678823"
     },
     "user_tz": 480
    },
    "id": "wl1ORG88EoxR",
    "outputId": "cb2c529b-9912-4159-b665-45d685dd0666"
   },
   "outputs": [],
   "source": [
    "###############################################################################\n",
    "# Disaggregate into sub-daily data\n",
    "###############################################################################\n",
    "\n",
    "# create dictionary version of solar_geom\n",
    "solar_geom_dict = {\"tiny_rad_fract\": tiny_rad_fract0,\n",
    "                   \"daylength\": daylength0,\n",
    "                   \"potrad\": potrad0,\n",
    "                   \"tt_max\": tt_max0}\n",
    "\n",
    "df_disagg = disaggregate.disaggregate(df_daily, params, solar_geom_dict)"
   ]
  },
  {
   "cell_type": "code",
   "execution_count": null,
   "metadata": {},
   "outputs": [],
   "source": [
    "df_disagg.head()"
   ]
  },
  {
   "cell_type": "code",
   "execution_count": null,
   "metadata": {
    "id": "Bq1sO2YX18JL"
   },
   "outputs": [],
   "source": [
    "###############################################################################\n",
    "# Output result - Sub-daily data\n",
    "###############################################################################\n",
    "fname_out = os.path.join(dir_output, \"Timeseries_step1_drybulb,raw_cloud,raw_relhum.csv\")\n",
    "\n",
    "fout = open(fname_out, \"w\")\n",
    "fout.write(\"Date,Dry-bulb Temperature [F],Cloud_Cover [fraction],Relative Humidity [%]\")\n",
    "fout.write(\"\\n\")\n",
    "\n",
    "daterange_sub = pd.date_range(date_bgn_adj\n",
    "            , date_end + timedelta(days = 1) - timedelta(minutes = time_step),\n",
    "            freq = timedelta(minutes = time_step))\n",
    "\n",
    "npt = df_disagg.shape[0]\n",
    "assert(len(daterange_sub) == npt)\n",
    "\n",
    "temp_sub = df_disagg[\"temp\"]\n",
    "cloud_cover_sub = df_disagg[\"tskc\"]\n",
    "rel_humid_sub = df_disagg[\"rel_humid\"]\n",
    "\n",
    "for i in range(0, npt):\n",
    "  dstr = daterange_sub[i].strftime(\"%Y-%m-%d %H:%M\")\n",
    "  fout.write(dstr + \",\"\n",
    "            + \"%.2f,\"%(convert_temp(temp_sub[i], \"c\", \"f\"))\n",
    "            + \"%.2f,\"%cloud_cover_sub[i]\n",
    "            + \"%.2f\"%rel_humid_sub[i]            \n",
    "            )\n",
    "  fout.write(\"\\n\")\n",
    "\n",
    "fout.close()"
   ]
  }
 ],
 "metadata": {
  "colab": {
   "collapsed_sections": [],
   "name": "Study_Livneh_Data_Analysis.ipynb",
   "provenance": []
  },
  "kernelspec": {
   "display_name": "Python 3 (ipykernel)",
   "language": "python",
   "name": "python3"
  },
  "language_info": {
   "codemirror_mode": {
    "name": "ipython",
    "version": 3
   },
   "file_extension": ".py",
   "mimetype": "text/x-python",
   "name": "python",
   "nbconvert_exporter": "python",
   "pygments_lexer": "ipython3",
   "version": "3.10.10"
  }
 },
 "nbformat": 4,
 "nbformat_minor": 1
}
