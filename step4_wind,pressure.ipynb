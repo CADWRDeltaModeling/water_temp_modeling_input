{
 "cells": [
  {
   "cell_type": "markdown",
   "metadata": {
    "id": "7DUMSXW-PXw3"
   },
   "source": [
    "# Purpose"
   ]
  },
  {
   "cell_type": "markdown",
   "metadata": {
    "id": "mz9g43gWOb1m"
   },
   "source": [
    "Purpose of the script:\n",
    "Obtain hourly timeseries for updated wind speed and air pressure through linear interpolation"
   ]
  },
  {
   "cell_type": "markdown",
   "metadata": {
    "id": "kvz7wR_pPWXL"
   },
   "source": [
    "# Environment Setup"
   ]
  },
  {
   "cell_type": "code",
   "execution_count": null,
   "metadata": {
    "id": "9MMWJBdL5VdB"
   },
   "outputs": [],
   "source": [
    "import numpy as np\n",
    "import pandas as pd\n",
    "import matplotlib.pyplot as plt\n",
    "from datetime import datetime, timedelta\n",
    "import os\n",
    "import sys"
   ]
  },
  {
   "cell_type": "markdown",
   "metadata": {
    "id": "zpJs-nGXPU4s"
   },
   "source": [
    "# Linear Interpolation of Supplemental Data"
   ]
  },
  {
   "cell_type": "code",
   "execution_count": null,
   "metadata": {
    "colab": {
     "base_uri": "https://localhost:8080/"
    },
    "executionInfo": {
     "elapsed": 8461,
     "status": "ok",
     "timestamp": 1607710849814,
     "user": {
      "displayName": "H K",
      "photoUrl": "",
      "userId": "12235360574546678823"
     },
     "user_tz": 480
    },
    "id": "2Nen1Y2aQpjG",
    "outputId": "4fd73ad2-2610-4057-8370-82f360776990"
   },
   "outputs": [],
   "source": [
    "###############################################################################\n",
    "# Read data and create dataframe\n",
    "###############################################################################\n",
    "dir_input = os.path.join(\"./inputs\")\n",
    "dir_out = os.path.join(\"./processing\")\n",
    "\n",
    "data_list = [\"updated_wind\", \"air_pressure\"]\n",
    "\n",
    "fname_dict = {\"updated_wind\": \"UpdatedWP3hrApr1915_Dec2015.txt\",\n",
    "              \"air_pressure\": \"AirPressure3hrApr1915_Dec2015.txt\"}\n",
    "\n",
    "# Create date list for index\n",
    "dt_bgn = datetime(1915, 4, 1, 0, 0)\n",
    "dt_end = datetime(2015, 12, 31, 21, 0)\n",
    "index_3hr = pd.date_range(dt_bgn, dt_end, freq = timedelta(minutes = 180))\n",
    "npt_3hr = len(index_3hr)\n",
    "\n",
    "dt_bgn = datetime(1915, 4, 1, 0, 0)\n",
    "dt_end = datetime(2015, 12, 31, 21, 0)\n",
    "index_1hr = pd.date_range(dt_bgn, dt_end, freq = timedelta(minutes = 60))\n",
    "npt_1hr = len(index_1hr)\n",
    "\n",
    "# Read data then perform linear interpolation.\n",
    "dict_dat = {}\n",
    "for data in data_list:\n",
    "  fname = fname_dict[data]\n",
    "  tmp_3hr = np.loadtxt(os.path.join(dir_input, fname))\n",
    "\n",
    "  # Make sure the number of data points is consistent\n",
    "  assert len(tmp_3hr) == npt_3hr\n",
    "  \n",
    "  tmp_1hr = np.zeros(npt_1hr)\n",
    "  ind = 0\n",
    "  for i in range(0, npt_3hr-1):\n",
    "    a = tmp_3hr[i]\n",
    "    b = tmp_3hr[i+1]\n",
    "    slope = (b-a)/3     #3-hour frequency\n",
    "\n",
    "    for j in range(0, 3):\n",
    "      tmp_1hr[ind] = a + slope * j\n",
    "      ind = ind + 1\n",
    "  \n",
    "  # End values are equal (boudns cannot be interpolated)\n",
    "  tmp_1hr[-1] = tmp_3hr[-1]\n",
    "\n",
    "  # Append to dictionary\n",
    "  dict_dat[data] = tmp_1hr\n",
    "\n",
    "# Create dataframe\n",
    "df_data = pd.DataFrame(data = dict_dat, index = index_1hr\n",
    "                               , columns = data_list)  \n",
    "\n",
    "df_data = df_data.rename(columns={\"updated_wind\": \"updated_wind (int.)\",\n",
    "                          \"air_pressure\": \"air_pressure (int.)\"})\n",
    "print(df_data)"
   ]
  },
  {
   "cell_type": "code",
   "execution_count": null,
   "metadata": {},
   "outputs": [],
   "source": [
    "# Shift data by 8 hours\n",
    "df_data = df_data.shift(-8, axis=0)\n",
    "print(df_data)"
   ]
  },
  {
   "cell_type": "markdown",
   "metadata": {},
   "source": [
    "## Apply correction factor to wind"
   ]
  },
  {
   "cell_type": "code",
   "execution_count": null,
   "metadata": {},
   "outputs": [],
   "source": [
    "#\n",
    "# Round up to two decimal places. Change this for more precision\n",
    "#\n",
    "df_data = round(df_data, 2)\n",
    "\n",
    "print(df_data.head())"
   ]
  },
  {
   "cell_type": "code",
   "execution_count": null,
   "metadata": {},
   "outputs": [],
   "source": [
    "# Create new column for corrected wind, which will be published.\n",
    "df_data[\"Wind [mph]\"] = df_data[\"updated_wind (int.)\"]\n",
    "\n",
    "# Store full index\n",
    "index_full = df_data.index"
   ]
  },
  {
   "cell_type": "code",
   "execution_count": null,
   "metadata": {
    "scrolled": true
   },
   "outputs": [],
   "source": [
    "# Factor of 2.0\n",
    "factor = 2.0\n",
    "index = index_full[(index_full.month>=4) & (index_full.month<=10)]\n",
    "df_data.loc[index, \"Wind [mph]\"] = df_data.loc[index, \"updated_wind (int.)\"].mul(factor)"
   ]
  },
  {
   "cell_type": "code",
   "execution_count": null,
   "metadata": {},
   "outputs": [],
   "source": [
    "# Factor of 1.25\n",
    "factor = 1.25\n",
    "index = index_full[(index_full.month ==4) & (index_full.day == 1)]\n",
    "df_data.loc[index, \"Wind [mph]\"] = df_data.loc[index, \"updated_wind (int.)\"].mul(factor)\n",
    "\n",
    "index = index_full[(index_full.month ==10) & (index_full.day == 31)]\n",
    "df_data.loc[index, \"Wind [mph]\"] = df_data.loc[index, \"updated_wind (int.)\"].mul(factor)"
   ]
  },
  {
   "cell_type": "code",
   "execution_count": null,
   "metadata": {},
   "outputs": [],
   "source": [
    "# Factor of 1.50\n",
    "factor = 1.50\n",
    "index = index_full[(index_full.month == 4) & (index_full.day == 2)]\n",
    "df_data.loc[index, \"Wind [mph]\"] = df_data.loc[index, \"updated_wind (int.)\"].mul(factor)\n",
    "\n",
    "index = index_full[(index_full.month == 10) & (index_full.day == 30)]\n",
    "df_data.loc[index, \"Wind [mph]\"] = df_data.loc[index, \"updated_wind (int.)\"].mul(factor)"
   ]
  },
  {
   "cell_type": "code",
   "execution_count": null,
   "metadata": {},
   "outputs": [],
   "source": [
    "# Factor of 1.75\n",
    "factor = 1.75\n",
    "index = index_full[(index_full.month == 4) & (index_full.day == 3)]\n",
    "df_data.loc[index, \"Wind [mph]\"] = df_data.loc[index, \"updated_wind (int.)\"].mul(factor)\n",
    "\n",
    "index = index_full[(index_full.month == 10) & (index_full.day == 29)]\n",
    "df_data.loc[index, \"Wind [mph]\"] = df_data.loc[index, \"updated_wind (int.)\"].mul(factor)"
   ]
  },
  {
   "cell_type": "code",
   "execution_count": null,
   "metadata": {},
   "outputs": [],
   "source": [
    "###############################################################################\n",
    "# Change column name\n",
    "###############################################################################\n",
    "df_print = df_data.copy()\n",
    "\n",
    "df_print = df_print.drop(\"updated_wind (int.)\", axis=1)\n",
    "\n",
    "df_print = df_print.rename(columns={\"air_pressure (int.)\": \"Atm_Pres [inHg]\"})\n",
    "df_print.index.name = \"Date\"\n",
    "\n",
    "###############################################################################\n",
    "# Output result - Hourly data\n",
    "###############################################################################\n",
    "fname_out = os.path.join(dir_out, \"Timeseries_step4_wind,pressure.csv\")\n",
    "\n",
    "df_print.to_csv(fname_out,\n",
    "                 sep=\",\",\n",
    "                 na_rep=\"NaN\",\n",
    "                 float_format = \"%.3f\")"
   ]
  }
 ],
 "metadata": {
  "colab": {
   "collapsed_sections": [],
   "name": "Gerber_Data_Analysis_20201210.ipynb",
   "provenance": []
  },
  "kernelspec": {
   "display_name": "Python 3 (ipykernel)",
   "language": "python",
   "name": "python3"
  },
  "language_info": {
   "codemirror_mode": {
    "name": "ipython",
    "version": 3
   },
   "file_extension": ".py",
   "mimetype": "text/x-python",
   "name": "python",
   "nbconvert_exporter": "python",
   "pygments_lexer": "ipython3",
   "version": "3.10.10"
  }
 },
 "nbformat": 4,
 "nbformat_minor": 1
}
