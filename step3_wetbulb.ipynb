{
 "cells": [
  {
   "cell_type": "code",
   "execution_count": null,
   "metadata": {
    "colab": {
     "base_uri": "https://localhost:8080/"
    },
    "executionInfo": {
     "elapsed": 7208,
     "status": "ok",
     "timestamp": 1607677822943,
     "user": {
      "displayName": "H K",
      "photoUrl": "",
      "userId": "12235360574546678823"
     },
     "user_tz": 480
    },
    "id": "9MMWJBdL5VdB",
    "outputId": "6783c476-6479-4fc9-9f61-3b3b4fb59568"
   },
   "outputs": [],
   "source": [
    "import numpy as np\n",
    "import pandas as pd\n",
    "from datetime import timedelta\n",
    "import os\n",
    "import sys"
   ]
  },
  {
   "cell_type": "code",
   "execution_count": null,
   "metadata": {
    "id": "GohfBLFOMZ7j"
   },
   "outputs": [],
   "source": [
    "# Load custom functions\n",
    "sys.path.append(\"./python_functions/\")\n",
    "from custom_data_process import twetbulb, convert_temp"
   ]
  },
  {
   "cell_type": "code",
   "execution_count": null,
   "metadata": {
    "id": "RKOpxXVG5n--",
    "scrolled": true
   },
   "outputs": [],
   "source": [
    "###############################################################################\n",
    "#   Housekeeping\n",
    "###############################################################################\n",
    "df_temp = pd.read_csv(os.path.join(\"processing\",\"Timeseries_step1_drybulb,raw_cloud,raw_relhum.csv\"))\n",
    "df_relhum = pd.read_csv(os.path.join(\"processing\",\"Timeseries_step2_corrected_relhum.csv\"))\n",
    "\n",
    "dir_out = os.path.join(\"./processing\")"
   ]
  },
  {
   "cell_type": "code",
   "execution_count": null,
   "metadata": {},
   "outputs": [],
   "source": [
    "###############################################################################\n",
    "#   Assign index name for convenience\n",
    "###############################################################################\n",
    "df_relhum.columns.values[0] = \"Date\"\n",
    "df_relhum.columns.values[1] = \"relhum\""
   ]
  },
  {
   "cell_type": "code",
   "execution_count": null,
   "metadata": {},
   "outputs": [],
   "source": [
    "##########################################################################\n",
    "# Create index in correct format using pandas date_range\n",
    "##########################################################################\n",
    "\n",
    "# Observed\n",
    "dt0 = df_temp[\"Date\"].iloc[0]\n",
    "dt1 = df_temp[\"Date\"].iloc[-1]\n",
    "index = pd.date_range(dt0, dt1, freq = timedelta(hours = 1))\n",
    "df_temp = df_temp.set_index(index)\n",
    "df_temp = df_temp.drop(\"Date\", axis = 1)\n",
    "\n",
    "# Model\n",
    "dt0 = df_relhum[\"Date\"].iloc[0]\n",
    "dt1 = df_relhum[\"Date\"].iloc[-1]\n",
    "index = pd.date_range(dt0, dt1, freq = timedelta(hours = 1))\n",
    "df_relhum = df_relhum.set_index(index)\n",
    "df_relhum = df_relhum.drop(\"Date\", axis = 1)"
   ]
  },
  {
   "cell_type": "code",
   "execution_count": null,
   "metadata": {
    "id": "VqDccTkvhEq2"
   },
   "outputs": [],
   "source": [
    "###############################################################################\n",
    "# Compute wet-bulb temperature\n",
    "###############################################################################\n",
    "temp = df_temp[\"Dry-bulb Temperature [F]\"]\n",
    "relhum = df_relhum[\"relhum\"]\n",
    "twb1 = convert_temp(twetbulb(relhum/100, convert_temp(temp, \"f\", \"c\")), \"c\", \"f\")"
   ]
  },
  {
   "cell_type": "code",
   "execution_count": null,
   "metadata": {},
   "outputs": [],
   "source": [
    "###############################################################################\n",
    "# Print to csv\n",
    "###############################################################################\n",
    "df_print = pd.DataFrame(twb1)\n",
    "df_print.index.name = \"Date\"\n",
    "df_print.to_csv(os.path.join(dir_out, \"Timeseries_step3_wetbulb.csv\"),\n",
    "            float_format = \"%.2f\", na_rep = \"NaN\",\n",
    "            header=[\"Wet-bulb Temperature [F]\"])"
   ]
  }
 ],
 "metadata": {
  "colab": {
   "collapsed_sections": [],
   "name": "Study_Livneh_Data_Analysis.ipynb",
   "provenance": []
  },
  "kernelspec": {
   "display_name": "Python 3 (ipykernel)",
   "language": "python",
   "name": "python3"
  },
  "language_info": {
   "codemirror_mode": {
    "name": "ipython",
    "version": 3
   },
   "file_extension": ".py",
   "mimetype": "text/x-python",
   "name": "python",
   "nbconvert_exporter": "python",
   "pygments_lexer": "ipython3",
   "version": "3.10.10"
  }
 },
 "nbformat": 4,
 "nbformat_minor": 1
}
