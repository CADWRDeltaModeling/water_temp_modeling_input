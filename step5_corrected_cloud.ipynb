{
 "cells": [
  {
   "cell_type": "markdown",
   "metadata": {
    "id": "65OnrlmRP8pm"
   },
   "source": [
    "In Google Collab, runtime must be restarted for each run."
   ]
  },
  {
   "cell_type": "markdown",
   "metadata": {
    "id": "2wjh-nz7-yMq"
   },
   "source": [
    "# Environment Setup and User Specification"
   ]
  },
  {
   "cell_type": "markdown",
   "metadata": {},
   "source": [
    "Precision matters. The input files need to have many decimal places."
   ]
  },
  {
   "cell_type": "code",
   "execution_count": null,
   "metadata": {
    "executionInfo": {
     "elapsed": 3328,
     "status": "ok",
     "timestamp": 1611124926192,
     "user": {
      "displayName": "H K",
      "photoUrl": "",
      "userId": "12235360574546678823"
     },
     "user_tz": 480
    },
    "id": "9MMWJBdL5VdB"
   },
   "outputs": [],
   "source": [
    "import numpy as np\n",
    "import pandas as pd\n",
    "from datetime import datetime, timedelta, date\n",
    "import matplotlib.pyplot as plt\n",
    "import os\n",
    "import sys"
   ]
  },
  {
   "cell_type": "code",
   "execution_count": null,
   "metadata": {
    "executionInfo": {
     "elapsed": 3316,
     "status": "ok",
     "timestamp": 1611124926193,
     "user": {
      "displayName": "H K",
      "photoUrl": "",
      "userId": "12235360574546678823"
     },
     "user_tz": 480
    },
    "id": "CasAWiIxFy09"
   },
   "outputs": [],
   "source": [
    "################################################################################\n",
    "# User specification\n",
    "################################################################################\n",
    "\n",
    "# Plot\n",
    "iplot = {\"cloud_cover\": 1}\n",
    "\n",
    "# Date range for plotting\n",
    "date_bgn_plot = date(2000,1,1)\n",
    "date_end_plot = date(2016,1,1)\n",
    "\n",
    "# isavecsv = 1 will save csv of timeseries\n",
    "isavecsv = 1\n",
    "\n",
    "# Number of bins for bias-correction\n",
    "num_percentile = 50\n",
    "\n",
    "# Number of bins for cdf plots\n",
    "num_bins = 100\n",
    "\n",
    "# Inputs\n",
    "path_metsim = \"./processing/Timeseries_step1_drybulb,raw_cloud,raw_relhum.csv\"\n",
    "\n",
    "# Observations; exactracted from DSS file.\n",
    "dict_obs_fname = {\"cloud_cover\": \"Stockton_Obs_CLOUD_COVER.csv\"}\n",
    "\n",
    "dir_input = os.path.join(\"./inputs/\")\n",
    "dir_output = os.path.join(\"./processing/\")\n",
    "\n",
    "# Variables to be compared with observations\n",
    "list_var = [\"cloud_cover\"]"
   ]
  },
  {
   "cell_type": "markdown",
   "metadata": {
    "id": "THsI4lCIdKV7"
   },
   "source": [
    "# Read Observation"
   ]
  },
  {
   "cell_type": "code",
   "execution_count": null,
   "metadata": {
    "executionInfo": {
     "elapsed": 4002,
     "status": "ok",
     "timestamp": 1611124926882,
     "user": {
      "displayName": "H K",
      "photoUrl": "",
      "userId": "12235360574546678823"
     },
     "user_tz": 480
    },
    "id": "zfigWKeidMGx"
   },
   "outputs": [],
   "source": [
    "###############################################################################\n",
    "# Read observed data\n",
    "###############################################################################\n",
    "dict_obs = {}\n",
    "\n",
    "for var in list_var:\n",
    "  dict_obs[var] = {}\n",
    "  fname_obs = dict_obs_fname[var]\n",
    "\n",
    "  #\n",
    "  # Read Observation\n",
    "  #\n",
    "  df_tmp = pd.read_csv(os.path.join(dir_input, fname_obs),\n",
    "                        names = [\"Date\",\"Time\",var], header = 1)\n",
    "\n",
    "  date0 = df_tmp[\"Date\"].iloc[0]\n",
    "  date1 = df_tmp[\"Date\"].iloc[-1]\n",
    "\n",
    "  time0 = df_tmp[\"Time\"].iloc[0]\n",
    "  time1 = df_tmp[\"Time\"].iloc[-1]\n",
    "        \n",
    "  if (time0 == \" 24:00\"):\n",
    "      time0 = \" 00:00\"\n",
    "      tdel0 = timedelta(days = 1)\n",
    "  else:\n",
    "      tdel0 = timedelta(days = 0)\n",
    "\n",
    "  if (time1 == \" 24:00\"):\n",
    "      time1 = \" 00:00\"\n",
    "      tdel1 = timedelta(days = 1)\n",
    "  else:\n",
    "      tdel1 = timedelta(days = 0)\n",
    "      \n",
    "  dt0 = datetime.strptime(date0 + time0, \"%d %b %y %H:%M\") + tdel0\n",
    "  dt1 = datetime.strptime(date1 + time1, \"%d %b %y %H:%M\") + tdel1\n",
    "  index = pd.date_range(dt0, dt1, freq = timedelta(hours = 1))\n",
    "\n",
    "  df_tmp = df_tmp.drop(columns = [\"Time\", \"Date\"]) # no longer needed \n",
    "  df_tmp = df_tmp.set_index(index)\n",
    "\n",
    "  # Missing values are represented as a blank space.\n",
    "  df_tmp = df_tmp.replace(\" \", np.nan)  \n",
    "\n",
    "  # Entries must be numeric\n",
    "  df_tmp = pd.to_numeric(df_tmp.iloc[:,0], errors = \"coerce\")\n",
    "  \n",
    "  # \n",
    "  # Plot Observation\n",
    "  #\n",
    "  dict_obs[var][\"Hourly\"] = df_tmp"
   ]
  },
  {
   "cell_type": "markdown",
   "metadata": {
    "id": "W80wMpilVE_r"
   },
   "source": [
    "# Read MetSim Data"
   ]
  },
  {
   "cell_type": "code",
   "execution_count": null,
   "metadata": {},
   "outputs": [],
   "source": [
    "df_metsim = pd.read_csv(path_metsim)"
   ]
  },
  {
   "cell_type": "code",
   "execution_count": null,
   "metadata": {},
   "outputs": [],
   "source": [
    "dt0 = datetime.strptime(df_metsim[\"Date\"].iloc[0], \"%Y-%m-%d %H:%M\")\n",
    "dt1 = datetime.strptime(df_metsim[\"Date\"].iloc[-1], \"%Y-%m-%d %H:%M\")\n",
    "index = pd.date_range(dt0, dt1, freq = timedelta(hours = 1))\n",
    "df_metsim = df_metsim.set_index(index)\n",
    "df_metsim = df_metsim.drop(\"Date\", axis=1)"
   ]
  },
  {
   "cell_type": "code",
   "execution_count": null,
   "metadata": {},
   "outputs": [],
   "source": [
    "df_metsim"
   ]
  },
  {
   "cell_type": "code",
   "execution_count": null,
   "metadata": {
    "colab": {
     "base_uri": "https://localhost:8080/",
     "height": 436
    },
    "executionInfo": {
     "elapsed": 4934,
     "status": "ok",
     "timestamp": 1611124927820,
     "user": {
      "displayName": "H K",
      "photoUrl": "",
      "userId": "12235360574546678823"
     },
     "user_tz": 480
    },
    "id": "EKeNTr_i47DJ",
    "outputId": "797cd3a6-4c95-4b6d-86ed-3711f0e57e71"
   },
   "outputs": [],
   "source": [
    "df_metsim = df_metsim.rename(columns = {\"Cloud_Cover [fraction]\": \"cloud_cover\"})"
   ]
  },
  {
   "cell_type": "code",
   "execution_count": null,
   "metadata": {
    "executionInfo": {
     "elapsed": 4933,
     "status": "ok",
     "timestamp": 1611124927821,
     "user": {
      "displayName": "H K",
      "photoUrl": "",
      "userId": "12235360574546678823"
     },
     "user_tz": 480
    },
    "id": "h-kcykYnWf7r"
   },
   "outputs": [],
   "source": [
    "dict_metsim = {}\n",
    "for var in list_var:\n",
    "  \n",
    "  dict_metsim[var] = {\"Raw\": {},\n",
    "                      \"BC\": {}}\n",
    "\n",
    "  dict_metsim[var][\"Raw\"] = {\"Hourly\": df_metsim[var]}"
   ]
  },
  {
   "cell_type": "code",
   "execution_count": null,
   "metadata": {},
   "outputs": [],
   "source": [
    "dict_metsim[\"cloud_cover\"][\"Raw\"][\"Hourly\"]"
   ]
  },
  {
   "cell_type": "code",
   "execution_count": null,
   "metadata": {},
   "outputs": [],
   "source": [
    "dict_obs[var][\"Hourly\"]"
   ]
  },
  {
   "cell_type": "markdown",
   "metadata": {
    "id": "wtuGLM06Wf7s"
   },
   "source": [
    "# Bias-correction"
   ]
  },
  {
   "cell_type": "code",
   "execution_count": null,
   "metadata": {
    "colab": {
     "base_uri": "https://localhost:8080/"
    },
    "executionInfo": {
     "elapsed": 7234,
     "status": "ok",
     "timestamp": 1611124930127,
     "user": {
      "displayName": "H K",
      "photoUrl": "",
      "userId": "12235360574546678823"
     },
     "user_tz": 480
    },
    "id": "nlqlS7CEWf7s",
    "outputId": "5cc037f5-b6dd-4bb5-f9ff-ba366c411639"
   },
   "outputs": [],
   "source": [
    "for var in list_var:\n",
    "\n",
    "  df_tmp = dict_obs[var][\"Hourly\"].dropna()\n",
    "  df_model_hourly = dict_metsim[var][\"Raw\"][\"Hourly\"]\n",
    "  df_map = df_model_hourly\n",
    "\n",
    "  arr_obs = pd.to_numeric(df_tmp, errors = \"coerce\").to_numpy()\n",
    "  arr_model = df_model_hourly.to_numpy()\n",
    "  \n",
    "\n",
    "  list_model = []\n",
    "\n",
    "  prange = int(100/num_percentile)\n",
    "  #print(prange)\n",
    "  for upb in range(prange, 100+prange, prange):\n",
    "\n",
    "      pct_obs = np.percentile(arr_obs, upb)\n",
    "      pct_model = np.percentile(arr_model, upb)\n",
    "      lowb = upb - prange\n",
    "\n",
    "      #print(pct_obs)\n",
    "      #print(pct_model)\n",
    "      #print(lowb)\n",
    "        \n",
    "      pct_model_low = np.percentile(arr_model, lowb)\n",
    "\n",
    "      dat_model = df_map[df_map.between(pct_model_low,\n",
    "                                        pct_model,\n",
    "                                        inclusive=\"both\")]\n",
    "      \n",
    "      ratio = pct_obs/pct_model\n",
    "      if ( np.isnan(ratio) or np.isinf(ratio)):\n",
    "        continue\n",
    "      else:\n",
    "        dat_model_new = dat_model * ratio\n",
    "        list_model.append(dat_model_new)\n",
    "\n",
    "  df_tmp = pd.concat(list_model, axis = 0)\n",
    "  df_tmp = df_tmp.sort_index()\n",
    "\n",
    "  # check for duplicate\n",
    "  dup_index = df_tmp[df_tmp.index.duplicated(keep=False)]\n",
    "  if (len(dup_index) > 0):\n",
    "      print(\"Duplicate index found:\", dup_index)\n",
    "      print(\"Dropping all but first\")\n",
    "\n",
    "      df_tmp = df_tmp[~df_tmp.index.duplicated(keep='first')]      \n",
    "\n",
    "  # Check\n",
    "  arr_model = df_tmp.to_numpy()\n",
    "  for upb in range(prange, 100+prange, prange):\n",
    "\n",
    "      pct_obs = np.percentile(arr_obs, upb)\n",
    "      pct_model = np.percentile(arr_model, upb)\n",
    "\n",
    "  dict_metsim[var][\"BC\"][\"Hourly\"] = df_tmp"
   ]
  },
  {
   "cell_type": "markdown",
   "metadata": {
    "id": "9ZfvVPA1ltP2"
   },
   "source": [
    "# Result"
   ]
  },
  {
   "cell_type": "markdown",
   "metadata": {
    "id": "b1QlCLPgmN_d"
   },
   "source": [
    "## Cumulative"
   ]
  },
  {
   "cell_type": "markdown",
   "metadata": {
    "id": "UB_teJQ4mPXw"
   },
   "source": [
    "### Cloud Cover"
   ]
  },
  {
   "cell_type": "code",
   "execution_count": null,
   "metadata": {
    "colab": {
     "base_uri": "https://localhost:8080/",
     "height": 876
    },
    "executionInfo": {
     "elapsed": 52535,
     "status": "ok",
     "timestamp": 1611124975435,
     "user": {
      "displayName": "H K",
      "photoUrl": "",
      "userId": "12235360574546678823"
     },
     "user_tz": 480
    },
    "id": "W-r9RVRwmTHX",
    "outputId": "8c04cb0f-9db3-4da6-db89-62ab44f73d8f"
   },
   "outputs": [],
   "source": [
    "if (iplot[\"cloud_cover\"] == 1):\n",
    "\n",
    "  data_obs = dict_obs[\"cloud_cover\"][\"Hourly\"]\n",
    "  data_metsim_raw = dict_metsim[\"cloud_cover\"][\"Raw\"][\"Hourly\"]\n",
    "  data_metsim_bc = dict_metsim[\"cloud_cover\"][\"BC\"][\"Hourly\"]\n",
    "\n",
    "  plt.figure(figsize = (6, 6), dpi = 200)\n",
    "\n",
    "  data = data_obs.dropna()\n",
    "  values, base = np.histogram(data, bins=num_bins)\n",
    "  cumulative = np.cumsum(values)/len(data)\n",
    "  plt.plot(base[:-1], cumulative, \"k\", linewidth = 1)\n",
    "\n",
    "  data = data_metsim_raw.dropna()\n",
    "  values, base = np.histogram(data, bins=num_bins)\n",
    "  cumulative = np.cumsum(values)/len(data)\n",
    "  plt.plot(base[:-1], cumulative, \"g\", linewidth = 1)\n",
    "\n",
    "  data = data_metsim_bc.dropna()\n",
    "  values, base = np.histogram(data, bins=num_bins)\n",
    "  cumulative = np.cumsum(values)/len(data)\n",
    "  plt.plot(base[:-1], cumulative, \"r\", linewidth = 0.7, markersize = 0.5)\n",
    "\n",
    "  plt.title(\"Cloud Cover\")\n",
    "  plt.xlabel(\"Cloud Cover\")\n",
    "  plt.legend([\"Observation\", \"MetSim (Raw)\", \"MetSim (Bias-Corrected)\"])\n",
    "  #plt.legend([\"Observation\", \"MetSim (Bias-Corrected)\"])\n",
    "  plt.ylim([0, 1])\n",
    "  plt.xlim([0, 1])\n",
    "  plt.grid()"
   ]
  },
  {
   "cell_type": "markdown",
   "metadata": {
    "id": "RXOm-IdttA3a"
   },
   "source": [
    "## Timeseries"
   ]
  },
  {
   "cell_type": "markdown",
   "metadata": {
    "id": "tlgia6TOz4bh"
   },
   "source": [
    "### Cloud Cover"
   ]
  },
  {
   "cell_type": "markdown",
   "metadata": {
    "id": "5J7_A__gOcXN"
   },
   "source": [
    "# Print output"
   ]
  },
  {
   "cell_type": "code",
   "execution_count": null,
   "metadata": {
    "executionInfo": {
     "elapsed": 62170,
     "status": "ok",
     "timestamp": 1611124985076,
     "user": {
      "displayName": "H K",
      "photoUrl": "",
      "userId": "12235360574546678823"
     },
     "user_tz": 480
    },
    "id": "i-MjiSmtOhkC"
   },
   "outputs": [],
   "source": [
    "if (isavecsv == 1):\n",
    "  for var in list_var:\n",
    "    df = pd.DataFrame(dict_metsim[var][\"BC\"][\"Hourly\"])\n",
    "    df.index.name = \"Date\"\n",
    "    fname =  os.path.join(dir_output, \"Timeseries_step5_corrected_cloud.csv\")\n",
    "    df.to_csv(fname, float_format = \"%.3f\", header=[\"Cloud Cover [fraction]\"])"
   ]
  }
 ],
 "metadata": {
  "colab": {
   "collapsed_sections": [],
   "name": "Bias_Correction.ipynb",
   "provenance": [],
   "toc_visible": true
  },
  "kernelspec": {
   "display_name": "Python 3 (ipykernel)",
   "language": "python",
   "name": "python3"
  },
  "language_info": {
   "codemirror_mode": {
    "name": "ipython",
    "version": 3
   },
   "file_extension": ".py",
   "mimetype": "text/x-python",
   "name": "python",
   "nbconvert_exporter": "python",
   "pygments_lexer": "ipython3",
   "version": "3.10.10"
  }
 },
 "nbformat": 4,
 "nbformat_minor": 1
}
