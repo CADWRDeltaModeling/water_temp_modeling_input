{
 "cells": [
  {
   "cell_type": "code",
   "execution_count": null,
   "metadata": {
    "colab": {
     "base_uri": "https://localhost:8080/"
    },
    "executionInfo": {
     "elapsed": 7208,
     "status": "ok",
     "timestamp": 1607677822943,
     "user": {
      "displayName": "H K",
      "photoUrl": "",
      "userId": "12235360574546678823"
     },
     "user_tz": 480
    },
    "id": "9MMWJBdL5VdB",
    "outputId": "6783c476-6479-4fc9-9f61-3b3b4fb59568"
   },
   "outputs": [],
   "source": [
    "import numpy as np\n",
    "import pandas as pd\n",
    "from datetime import datetime, timedelta\n",
    "import matplotlib.pyplot as plt\n",
    "\n",
    "import os\n",
    "import sys"
   ]
  },
  {
   "cell_type": "code",
   "execution_count": null,
   "metadata": {
    "id": "RKOpxXVG5n--"
   },
   "outputs": [],
   "source": [
    "###############################################################################\n",
    "#   Housekeeping\n",
    "###############################################################################\n",
    "dir_input = os.path.join(\"./processing/\")\n",
    "dir_output = os.path.join(\"./output/\")\n",
    "if not os.path.exists(dir_output):\n",
    "  os.makedirs(dir_output)\n",
    "\n",
    "fname_drybulb = \"Timeseries_step1_drybulb,raw_cloud,raw_relhum.csv\"\n",
    "fname_relhum = \"Timeseries_step2_corrected_relhum.csv\"\n",
    "fname_wetbulb = \"Timeseries_step3_wetbulb.csv\"\n",
    "fname_pres = \"Timeseries_step4_wind,pressure.csv\"\n",
    "fname_wind = \"Timeseries_step4_wind,pressure.csv\"\n",
    "fname_cloud = \"Timeseries_step5_corrected_cloud.csv\"\n"
   ]
  },
  {
   "cell_type": "code",
   "execution_count": null,
   "metadata": {},
   "outputs": [],
   "source": [
    "###############################################################################\n",
    "#   Combine timeseries\n",
    "###############################################################################\n",
    "df_tmp = pd.read_csv(os.path.join(dir_input, fname_drybulb), usecols = [\"Date\", \"Dry-bulb Temperature [F]\"])\n",
    "dt0 = df_tmp[\"Date\"].iloc[0]\n",
    "dt1 = df_tmp[\"Date\"].iloc[-1]\n",
    "index = pd.date_range(dt0, dt1, freq = timedelta(hours = 1))\n",
    "df_tmp = df_tmp.set_index(index)\n",
    "\n",
    "df_drybulb = df_tmp.drop(\"Date\", axis = 1)"
   ]
  },
  {
   "cell_type": "code",
   "execution_count": null,
   "metadata": {},
   "outputs": [],
   "source": [
    "df_tmp = pd.read_csv(os.path.join(dir_input, fname_relhum), usecols = [\"Date\", \"Relative Humidity [%]\"])\n",
    "dt0 = df_tmp[\"Date\"].iloc[0]\n",
    "dt1 = df_tmp[\"Date\"].iloc[-1]\n",
    "index = pd.date_range(dt0, dt1, freq = timedelta(hours = 1))\n",
    "df_tmp = df_tmp.set_index(index)\n",
    "\n",
    "df_relhum = df_tmp.drop(\"Date\", axis = 1)"
   ]
  },
  {
   "cell_type": "code",
   "execution_count": null,
   "metadata": {},
   "outputs": [],
   "source": [
    "df_tmp = pd.read_csv(os.path.join(dir_input, fname_wetbulb), usecols = [\"Date\", \"Wet-bulb Temperature [F]\"])\n",
    "dt0 = df_tmp[\"Date\"].iloc[0]\n",
    "dt1 = df_tmp[\"Date\"].iloc[-1]\n",
    "index = pd.date_range(dt0, dt1, freq = timedelta(hours = 1))\n",
    "df_tmp = df_tmp.set_index(index)\n",
    "\n",
    "df_wetbulb = df_tmp.drop(\"Date\", axis = 1)"
   ]
  },
  {
   "cell_type": "code",
   "execution_count": null,
   "metadata": {},
   "outputs": [],
   "source": [
    "df_tmp = pd.read_csv(os.path.join(dir_input, fname_pres), usecols = [\"Date\", \"Atm_Pres [inHg]\"])\n",
    "dt0 = df_tmp[\"Date\"].iloc[0]\n",
    "dt1 = df_tmp[\"Date\"].iloc[-1]\n",
    "index = pd.date_range(dt0, dt1, freq = timedelta(hours = 1))\n",
    "df_tmp = df_tmp.set_index(index)\n",
    "\n",
    "df_pres = df_tmp.drop(\"Date\", axis = 1)"
   ]
  },
  {
   "cell_type": "code",
   "execution_count": null,
   "metadata": {},
   "outputs": [],
   "source": [
    "df_tmp = pd.read_csv(os.path.join(dir_input, fname_pres), usecols = [\"Date\", \"Wind [mph]\"])\n",
    "dt0 = df_tmp[\"Date\"].iloc[0]\n",
    "dt1 = df_tmp[\"Date\"].iloc[-1]\n",
    "index = pd.date_range(dt0, dt1, freq = timedelta(hours = 1))\n",
    "df_tmp = df_tmp.set_index(index)\n",
    "\n",
    "df_wind = df_tmp.drop(\"Date\", axis = 1)"
   ]
  },
  {
   "cell_type": "code",
   "execution_count": null,
   "metadata": {},
   "outputs": [],
   "source": [
    "df_tmp = pd.read_csv(os.path.join(dir_input, fname_cloud), usecols = [\"Date\", \"Cloud Cover [fraction]\"])\n",
    "dt0 = df_tmp[\"Date\"].iloc[0]\n",
    "dt1 = df_tmp[\"Date\"].iloc[-1]\n",
    "index = pd.date_range(dt0, dt1, freq = timedelta(hours = 1))\n",
    "df_tmp = df_tmp.set_index(index)\n",
    "\n",
    "df_cloud = df_tmp.drop(\"Date\", axis = 1)"
   ]
  },
  {
   "cell_type": "code",
   "execution_count": null,
   "metadata": {},
   "outputs": [],
   "source": [
    "df_all = pd.concat([df_drybulb, df_wetbulb, df_relhum, df_pres, df_cloud, df_wind], axis=1)"
   ]
  },
  {
   "cell_type": "code",
   "execution_count": null,
   "metadata": {},
   "outputs": [],
   "source": [
    "df_all.index.name = \"Date\"\n",
    "df_all.to_csv(os.path.join(dir_output, \"Timeseries_All.csv\"),\n",
    "                  float_format=\"%.3f\",\n",
    "                  sep=\",\",\n",
    "                  na_rep=\"NaN\")"
   ]
  }
 ],
 "metadata": {
  "colab": {
   "collapsed_sections": [],
   "name": "Study_Livneh_Data_Analysis.ipynb",
   "provenance": []
  },
  "kernelspec": {
   "display_name": "Python 3 (ipykernel)",
   "language": "python",
   "name": "python3"
  },
  "language_info": {
   "codemirror_mode": {
    "name": "ipython",
    "version": 3
   },
   "file_extension": ".py",
   "mimetype": "text/x-python",
   "name": "python",
   "nbconvert_exporter": "python",
   "pygments_lexer": "ipython3",
   "version": "3.10.10"
  }
 },
 "nbformat": 4,
 "nbformat_minor": 1
}
